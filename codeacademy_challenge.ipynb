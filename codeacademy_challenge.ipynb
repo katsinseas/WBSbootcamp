{
 "cells": [
  {
   "cell_type": "markdown",
   "metadata": {},
   "source": [
    "##### 1. Create a function named ```large_power()``` that takes two parameters named ```base``` and ```exponent```.\n",
    "##### 2. If ```base``` raised to the ```exponent``` is greater than ```5000```, return ```True```, otherwise return ```False```"
   ]
  },
  {
   "cell_type": "code",
   "execution_count": 9,
   "metadata": {},
   "outputs": [
    {
     "name": "stdout",
     "output_type": "stream",
     "text": [
      "True\n",
      "False\n"
     ]
    }
   ],
   "source": [
    "def large_power(base, exponent):\n",
    "  if base ** exponent > 5000:\n",
    "    return True\n",
    "  else:\n",
    "    return False\n",
    "\n",
    "print(large_power(2, 13))\n",
    "print(large_power(2, 12))"
   ]
  },
  {
   "cell_type": "markdown",
   "metadata": {},
   "source": [
    "##### 1. Define the function to accept five parameters starting with ```budget``` then ```food_bill```, ```electricity_bill```, ```internet_bill```, and ```rent```\n",
    "##### 2. Calculate the ```sum``` of the last four parameters\n",
    "##### 3. Use ```if``` and ```else``` statements to test if the ```budget``` is less than the sum of the calculated ```sum``` from the previous step.\n",
    "##### 4. If the condition is true, return ```True``` otherwise return ```False```"
   ]
  },
  {
   "cell_type": "code",
   "execution_count": 11,
   "metadata": {},
   "outputs": [
    {
     "name": "stdout",
     "output_type": "stream",
     "text": [
      "False\n",
      "True\n"
     ]
    }
   ],
   "source": [
    "def over_budget(budget, food_bill, electricity_bill, internet_bill, rent):\n",
    "  if (budget < food_bill + electricity_bill + internet_bill + rent):\n",
    "    return True\n",
    "  else:\n",
    "    return False\n",
    "\n",
    "print(over_budget(100, 20, 30, 10, 40))\n",
    "print(over_budget(80, 20, 30, 10, 30))"
   ]
  },
  {
   "cell_type": "markdown",
   "metadata": {},
   "source": [
    "##### 1. Define our function with two inputs ```num1``` and ```num2```\n",
    "##### 2. Multiply the second input by 2\n",
    "##### 3. Use an ```if``` statement to compare the result of the last calculation with the first input\n",
    "##### 4. If ```num1``` is greater then return ```True``` otherwise return ```False```"
   ]
  },
  {
   "cell_type": "code",
   "execution_count": 12,
   "metadata": {},
   "outputs": [
    {
     "name": "stdout",
     "output_type": "stream",
     "text": [
      "False\n",
      "True\n"
     ]
    }
   ],
   "source": [
    "def twice_as_large(num1, num2):\n",
    "  if num1 > num2 * 2:\n",
    "    return True\n",
    "  else:\n",
    "    return False\n",
    "\n",
    "print(twice_as_large(10, 5))\n",
    "print(twice_as_large(11, 5))"
   ]
  },
  {
   "cell_type": "markdown",
   "metadata": {},
   "source": [
    "##### 1. Define the function header to accept one input ```num```\n",
    "##### 2. Calculate the remainder of the input divided by 10 (use modulus)\n",
    "##### 3. Use an ```if``` statement to check if the remainder was 0. If the remainder was 0, return ```True```, otherwise, return ```False```"
   ]
  },
  {
   "cell_type": "code",
   "execution_count": 14,
   "metadata": {},
   "outputs": [
    {
     "name": "stdout",
     "output_type": "stream",
     "text": [
      "True\n",
      "False\n"
     ]
    }
   ],
   "source": [
    "def divisible_by_ten(num):\n",
    "  if num % 10 == 0:\n",
    "    return True\n",
    "  else:\n",
    "    return False\n",
    "\n",
    "print(divisible_by_ten(20))\n",
    "print(divisible_by_ten(25))"
   ]
  },
  {
   "cell_type": "markdown",
   "metadata": {},
   "source": [
    "##### 1. Define the function to accept two parameters, ```num1``` and ```num2```\n",
    "##### 2. Add the two parameters together\n",
    "##### 3. Test if the result is ```not equal``` to 10\n",
    "##### 4. If the ```sum``` is not equal, return ```True```, otherwise, return ```False```"
   ]
  },
  {
   "cell_type": "code",
   "execution_count": 18,
   "metadata": {},
   "outputs": [
    {
     "name": "stdout",
     "output_type": "stream",
     "text": [
      "True\n",
      "False\n",
      "False\n"
     ]
    }
   ],
   "source": [
    "def not_sum_to_ten(num1, num2):\n",
    "  if num1 + num2 != 10:\n",
    "    return True\n",
    "  else:\n",
    "    return False\n",
    "  \n",
    "print(not_sum_to_ten(9, -1))\n",
    "print(not_sum_to_ten(9, 1))\n",
    "print(not_sum_to_ten(5,5))"
   ]
  },
  {
   "cell_type": "code",
   "execution_count": null,
   "metadata": {},
   "outputs": [],
   "source": []
  }
 ],
 "metadata": {
  "kernelspec": {
   "display_name": "Python 3",
   "language": "python",
   "name": "python3"
  },
  "language_info": {
   "codemirror_mode": {
    "name": "ipython",
    "version": 3
   },
   "file_extension": ".py",
   "mimetype": "text/x-python",
   "name": "python",
   "nbconvert_exporter": "python",
   "pygments_lexer": "ipython3",
   "version": "3.8.5"
  }
 },
 "nbformat": 4,
 "nbformat_minor": 4
}
